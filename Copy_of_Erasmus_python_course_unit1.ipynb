{
  "nbformat": 4,
  "nbformat_minor": 0,
  "metadata": {
    "colab": {
      "provenance": [],
      "mount_file_id": "1pE_SNVTk_sCynsVjfeqL0oS_Mbu4925N",
      "authorship_tag": "ABX9TyPpT2E7Ibv6fffMWG7Q7Q3Y",
      "include_colab_link": true
    },
    "kernelspec": {
      "name": "python3",
      "display_name": "Python 3"
    },
    "language_info": {
      "name": "python"
    }
  },
  "cells": [
    {
      "cell_type": "markdown",
      "metadata": {
        "id": "view-in-github",
        "colab_type": "text"
      },
      "source": [
        "<a href=\"https://colab.research.google.com/github/miet37/LearnPythonforResearch/blob/master/Copy_of_Erasmus_python_course_unit1.ipynb\" target=\"_parent\"><img src=\"https://colab.research.google.com/assets/colab-badge.svg\" alt=\"Open In Colab\"/></a>"
      ]
    },
    {
      "cell_type": "code",
      "execution_count": null,
      "metadata": {
        "colab": {
          "base_uri": "https://localhost:8080/"
        },
        "id": "-6b0BnCsTEth",
        "outputId": "a6ec0e6d-4d57-4a4a-ca58-56e0c3892d8b"
      },
      "outputs": [
        {
          "output_type": "stream",
          "name": "stdout",
          "text": [
            "We add two to two 4\n",
            "here is the secound line 1\n",
            "this last line 1.5\n"
          ]
        }
      ],
      "source": [
        "print('We add two to two',2+2)\n",
        "print('here is the secound line',4-3)\n",
        "print('this last line',3/2)\n",
        "\n",
        "\n"
      ]
    },
    {
      "cell_type": "markdown",
      "source": [
        "#Section 2"
      ],
      "metadata": {
        "id": "sMfSnd3VXRcF"
      }
    },
    {
      "cell_type": "code",
      "source": [
        "x = 'Elena'\n",
        "print('Who is Erasmus student?',x)"
      ],
      "metadata": {
        "colab": {
          "base_uri": "https://localhost:8080/"
        },
        "id": "YZEQoMc0Xh5F",
        "outputId": "3709d1ca-6122-4cc8-d27f-289fe078f03a"
      },
      "execution_count": null,
      "outputs": [
        {
          "output_type": "stream",
          "name": "stdout",
          "text": [
            "Who is Erasmus student? Elena\n"
          ]
        }
      ]
    },
    {
      "cell_type": "code",
      "source": [
        "print('Who is Erasmus student? ',x,'what is his/her favorite number ', y)"
      ],
      "metadata": {
        "colab": {
          "base_uri": "https://localhost:8080/"
        },
        "id": "UzI37GgFaeNE",
        "outputId": "e0f8165c-3cf9-42f1-ac7b-4a58409b448d"
      },
      "execution_count": null,
      "outputs": [
        {
          "output_type": "stream",
          "name": "stdout",
          "text": [
            "Who is Erasmus student?  Gergiana what is his/her favorite number  the number of the month he has born\n"
          ]
        }
      ]
    },
    {
      "cell_type": "code",
      "source": [
        "x = 'Gergiana'\n",
        "y = 34 + 12"
      ],
      "metadata": {
        "id": "zmpJkKTwXh2M"
      },
      "execution_count": null,
      "outputs": []
    },
    {
      "cell_type": "code",
      "source": [
        "y = input('What is her favorite number?')"
      ],
      "metadata": {
        "colab": {
          "base_uri": "https://localhost:8080/"
        },
        "id": "bX8nwQ0PXhzE",
        "outputId": "d7eee832-a7c0-4cfb-bfa4-aacee22dba9f"
      },
      "execution_count": null,
      "outputs": [
        {
          "name": "stdout",
          "output_type": "stream",
          "text": [
            "What is her favorite number?the number of the month he has born\n"
          ]
        }
      ]
    },
    {
      "cell_type": "code",
      "source": [
        "import random\n",
        "\n",
        "secret_number = random.randint(1, 20)\n",
        "attempts = 0\n",
        "\n",
        "print(\"Welcome to Guess the Number Game!\")\n",
        "print(\"I've selected a random number between 1 and 20. Can you guess it?\")\n",
        "\n",
        "\n",
        "\n"
      ],
      "metadata": {
        "colab": {
          "base_uri": "https://localhost:8080/"
        },
        "id": "mC18OQS3Xhv2",
        "outputId": "9f6fa36e-3d87-49a2-e15e-11b3e595922e"
      },
      "execution_count": null,
      "outputs": [
        {
          "output_type": "stream",
          "name": "stdout",
          "text": [
            "Welcome to Guess the Number Game!\n",
            "I've selected a random number between 1 and 20. Can you guess it?\n"
          ]
        }
      ]
    },
    {
      "cell_type": "code",
      "source": [
        "user_guess = int(input(\"Enter your guess: \"))\n",
        "attempts += 1"
      ],
      "metadata": {
        "colab": {
          "base_uri": "https://localhost:8080/"
        },
        "id": "cPcxcSS5dumz",
        "outputId": "9d08fee6-ac5f-4a0c-a69e-340189f593af"
      },
      "execution_count": null,
      "outputs": [
        {
          "name": "stdout",
          "output_type": "stream",
          "text": [
            "Enter your guess: 6\n"
          ]
        }
      ]
    },
    {
      "cell_type": "code",
      "source": [
        "if user_guess < secret_number:\n",
        "  print(f\"The number {user_guess} is too low! Try again.\")\n",
        "elif user_guess > secret_number:\n",
        "  print(f\"The number {user_guess} is too high! Try again.\")\n",
        "else:\n",
        "  print(f\"Congratulations! You guessed the number {secret_number} in {attempts} attempts.\")\n"
      ],
      "metadata": {
        "colab": {
          "base_uri": "https://localhost:8080/"
        },
        "id": "rILljqWgeZiP",
        "outputId": "c7a3bb2e-7db0-4fad-9c90-c344b37f54c9"
      },
      "execution_count": null,
      "outputs": [
        {
          "output_type": "stream",
          "name": "stdout",
          "text": [
            "Congratulations! You guessed the number 6 in 4 attempts.\n"
          ]
        }
      ]
    },
    {
      "cell_type": "code",
      "source": [],
      "metadata": {
        "id": "i98G6oH3fasR"
      },
      "execution_count": null,
      "outputs": []
    },
    {
      "cell_type": "code",
      "source": [
        "import random\n",
        "\n",
        "secret_number = random.randint(1, 20)\n",
        "attempts = 0\n",
        "\n",
        "print(\"Welcome to Guess the Number Game!\")\n",
        "print(\"I've selected a random number between 1 and 20. Can you guess it?\")\n",
        "\n",
        "\n",
        "guess_ok = False\n",
        "\n",
        "while guess_ok is not True:\n",
        "  user_guess = int(input(\"Enter your guess: \"))\n",
        "  attempts += 1\n",
        "\n",
        "  if user_guess < secret_number:\n",
        "    print(f\"The number {user_guess} is too low! Try again.\")\n",
        "  elif user_guess > secret_number:\n",
        "    print(f\"The number {user_guess} is too high! Try again.\")\n",
        "  else:\n",
        "    guess_ok = True\n",
        "    print(f\"Congratulations! You guessed the number {secret_number} in {attempts} attempts.\")\n",
        "\n"
      ],
      "metadata": {
        "colab": {
          "base_uri": "https://localhost:8080/"
        },
        "id": "WC8KcSZ8fapP",
        "outputId": "62f0f2d7-a31b-48e4-89da-16800bf6962b"
      },
      "execution_count": null,
      "outputs": [
        {
          "output_type": "stream",
          "name": "stdout",
          "text": [
            "Welcome to Guess the Number Game!\n",
            "I've selected a random number between 1 and 20. Can you guess it?\n",
            "Enter your guess: 10\n",
            "The number 10 is too high! Try again.\n",
            "Enter your guess: 5\n",
            "The number 5 is too high! Try again.\n",
            "Enter your guess: 3\n",
            "The number 3 is too high! Try again.\n",
            "Enter your guess: 2\n",
            "Congratulations! You guessed the number 2 in 4 attempts.\n"
          ]
        }
      ]
    },
    {
      "cell_type": "code",
      "source": [],
      "metadata": {
        "id": "IWxgETR6famX"
      },
      "execution_count": null,
      "outputs": []
    },
    {
      "cell_type": "code",
      "source": [],
      "metadata": {
        "id": "neiXWUjifaVg"
      },
      "execution_count": null,
      "outputs": []
    },
    {
      "cell_type": "code",
      "source": [
        "print(\"secret number\",secret_number,\"user guess\",user_guess)"
      ],
      "metadata": {
        "colab": {
          "base_uri": "https://localhost:8080/"
        },
        "id": "IQJAIucVXhst",
        "outputId": "e4baf0b7-7677-4e85-a024-39f9f361674b"
      },
      "execution_count": null,
      "outputs": [
        {
          "output_type": "stream",
          "name": "stdout",
          "text": [
            "secret number 6 user guess 9\n"
          ]
        }
      ]
    },
    {
      "cell_type": "code",
      "source": [],
      "metadata": {
        "id": "Emw8Zks4XgnC"
      },
      "execution_count": null,
      "outputs": []
    }
  ]
}